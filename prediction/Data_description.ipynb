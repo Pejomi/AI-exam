{
 "cells": [
  {
   "cell_type": "markdown",
   "id": "367ef491-2cdd-414e-8191-9e2d042c0a79",
   "metadata": {},
   "source": [
    "# The Data"
   ]
  },
  {
   "cell_type": "code",
   "execution_count": 1,
   "id": "95f32c7e-8792-40a2-8309-89a7964f21b3",
   "metadata": {},
   "outputs": [],
   "source": [
    "import pandas as pd\n",
    "import numpy as np\n",
    "import matplotlib.pyplot as plt"
   ]
  },
  {
   "cell_type": "markdown",
   "id": "d5f9fb39-c75b-4d42-8566-d56bb098f94c",
   "metadata": {},
   "source": [
    "## Load the data"
   ]
  },
  {
   "cell_type": "code",
   "execution_count": 2,
   "id": "a576b5b7-f06f-48db-bc49-93cf69754ac7",
   "metadata": {},
   "outputs": [],
   "source": [
    "data = pd.read_csv('../data/merged_information_clean.csv')"
   ]
  },
  {
   "cell_type": "code",
   "execution_count": 3,
   "id": "a3afa558-3f30-4631-8891-e08973792dcc",
   "metadata": {},
   "outputs": [],
   "source": [
    "df = pd.DataFrame(data[\n",
    "        ['Accident_Severity', 'Time', 'Light_Conditions', 'Weather_Conditions', 'Speed_limit', 'Road_Type',\n",
    "         'Road_Surface_Conditions', 'Urban_or_Rural_Area', 'Age_Band_of_Driver', 'Sex_of_Driver', 'Age_of_Vehicle',\n",
    "         'Vehicle_Manoeuvre', 'make', 'Vehicle_Type']])"
   ]
  },
  {
   "cell_type": "markdown",
   "id": "6e7b383c-af3c-4e9c-8842-74db4b4c24e5",
   "metadata": {},
   "source": [
    "## Get to Know The Data"
   ]
  },
  {
   "cell_type": "code",
   "execution_count": 4,
   "id": "d004ad94-2817-47e8-8c45-940197558991",
   "metadata": {},
   "outputs": [
    {
     "data": {
      "text/plain": [
       "(2058283, 14)"
      ]
     },
     "execution_count": 4,
     "metadata": {},
     "output_type": "execute_result"
    }
   ],
   "source": [
    "df.shape"
   ]
  },
  {
   "cell_type": "code",
   "execution_count": 5,
   "id": "c4f13eae-87ac-458b-98a8-0a506299af38",
   "metadata": {},
   "outputs": [
    {
     "data": {
      "text/plain": [
       "['Accident_Severity',\n",
       " 'Time',\n",
       " 'Light_Conditions',\n",
       " 'Weather_Conditions',\n",
       " 'Speed_limit',\n",
       " 'Road_Type',\n",
       " 'Road_Surface_Conditions',\n",
       " 'Urban_or_Rural_Area',\n",
       " 'Age_Band_of_Driver',\n",
       " 'Sex_of_Driver',\n",
       " 'Age_of_Vehicle',\n",
       " 'Vehicle_Manoeuvre',\n",
       " 'make',\n",
       " 'Vehicle_Type']"
      ]
     },
     "execution_count": 5,
     "metadata": {},
     "output_type": "execute_result"
    }
   ],
   "source": [
    "list(df)"
   ]
  },
  {
   "cell_type": "code",
   "execution_count": 6,
   "id": "713613a5-7bbc-428b-83d9-e6f30f566929",
   "metadata": {},
   "outputs": [
    {
     "data": {
      "text/html": [
       "<div>\n",
       "<style scoped>\n",
       "    .dataframe tbody tr th:only-of-type {\n",
       "        vertical-align: middle;\n",
       "    }\n",
       "\n",
       "    .dataframe tbody tr th {\n",
       "        vertical-align: top;\n",
       "    }\n",
       "\n",
       "    .dataframe thead th {\n",
       "        text-align: right;\n",
       "    }\n",
       "</style>\n",
       "<table border=\"1\" class=\"dataframe\">\n",
       "  <thead>\n",
       "    <tr style=\"text-align: right;\">\n",
       "      <th></th>\n",
       "      <th>Accident_Severity</th>\n",
       "      <th>Time</th>\n",
       "      <th>Light_Conditions</th>\n",
       "      <th>Weather_Conditions</th>\n",
       "      <th>Speed_limit</th>\n",
       "      <th>Road_Type</th>\n",
       "      <th>Road_Surface_Conditions</th>\n",
       "      <th>Urban_or_Rural_Area</th>\n",
       "      <th>Age_Band_of_Driver</th>\n",
       "      <th>Sex_of_Driver</th>\n",
       "      <th>Age_of_Vehicle</th>\n",
       "      <th>Vehicle_Manoeuvre</th>\n",
       "      <th>make</th>\n",
       "      <th>Vehicle_Type</th>\n",
       "    </tr>\n",
       "  </thead>\n",
       "  <tbody>\n",
       "    <tr>\n",
       "      <th>153600</th>\n",
       "      <td>Slight</td>\n",
       "      <td>16:25</td>\n",
       "      <td>Darkness - lights lit</td>\n",
       "      <td>Raining no high winds</td>\n",
       "      <td>40.0</td>\n",
       "      <td>Dual carriageway</td>\n",
       "      <td>Wet or damp</td>\n",
       "      <td>Rural</td>\n",
       "      <td>16 - 20</td>\n",
       "      <td>Male</td>\n",
       "      <td>5.0</td>\n",
       "      <td>Changing lane to left</td>\n",
       "      <td>VAUXHALL</td>\n",
       "      <td>Car</td>\n",
       "    </tr>\n",
       "    <tr>\n",
       "      <th>634307</th>\n",
       "      <td>Serious</td>\n",
       "      <td>09:29</td>\n",
       "      <td>Daylight</td>\n",
       "      <td>Fine no high winds</td>\n",
       "      <td>50.0</td>\n",
       "      <td>Single carriageway</td>\n",
       "      <td>Dry</td>\n",
       "      <td>Rural</td>\n",
       "      <td>46 - 55</td>\n",
       "      <td>Male</td>\n",
       "      <td>11.0</td>\n",
       "      <td>Parked</td>\n",
       "      <td>JEEP</td>\n",
       "      <td>Car</td>\n",
       "    </tr>\n",
       "    <tr>\n",
       "      <th>323775</th>\n",
       "      <td>Slight</td>\n",
       "      <td>19:00</td>\n",
       "      <td>Daylight</td>\n",
       "      <td>Fine no high winds</td>\n",
       "      <td>30.0</td>\n",
       "      <td>Single carriageway</td>\n",
       "      <td>Dry</td>\n",
       "      <td>Rural</td>\n",
       "      <td>36 - 45</td>\n",
       "      <td>Male</td>\n",
       "      <td>3.0</td>\n",
       "      <td>Going ahead other</td>\n",
       "      <td>RENAULT</td>\n",
       "      <td>Car</td>\n",
       "    </tr>\n",
       "    <tr>\n",
       "      <th>888628</th>\n",
       "      <td>Slight</td>\n",
       "      <td>15:50</td>\n",
       "      <td>Daylight</td>\n",
       "      <td>Raining no high winds</td>\n",
       "      <td>30.0</td>\n",
       "      <td>Single carriageway</td>\n",
       "      <td>Wet or damp</td>\n",
       "      <td>Urban</td>\n",
       "      <td>26 - 35</td>\n",
       "      <td>Male</td>\n",
       "      <td>3.0</td>\n",
       "      <td>Waiting to turn right</td>\n",
       "      <td>VAUXHALL</td>\n",
       "      <td>Car</td>\n",
       "    </tr>\n",
       "    <tr>\n",
       "      <th>1977894</th>\n",
       "      <td>Serious</td>\n",
       "      <td>17:30</td>\n",
       "      <td>Daylight</td>\n",
       "      <td>Fine no high winds</td>\n",
       "      <td>20.0</td>\n",
       "      <td>Single carriageway</td>\n",
       "      <td>Dry</td>\n",
       "      <td>Urban</td>\n",
       "      <td>56 - 65</td>\n",
       "      <td>Male</td>\n",
       "      <td>10.0</td>\n",
       "      <td>Moving off</td>\n",
       "      <td>AUDI</td>\n",
       "      <td>Car</td>\n",
       "    </tr>\n",
       "    <tr>\n",
       "      <th>1085198</th>\n",
       "      <td>Slight</td>\n",
       "      <td>00:40</td>\n",
       "      <td>Darkness - lights lit</td>\n",
       "      <td>Raining no high winds</td>\n",
       "      <td>30.0</td>\n",
       "      <td>Single carriageway</td>\n",
       "      <td>Wet or damp</td>\n",
       "      <td>Urban</td>\n",
       "      <td>36 - 45</td>\n",
       "      <td>Male</td>\n",
       "      <td>NaN</td>\n",
       "      <td>Going ahead other</td>\n",
       "      <td>VAUXHALL</td>\n",
       "      <td>Car</td>\n",
       "    </tr>\n",
       "    <tr>\n",
       "      <th>52586</th>\n",
       "      <td>Slight</td>\n",
       "      <td>11:00</td>\n",
       "      <td>Daylight</td>\n",
       "      <td>Fine no high winds</td>\n",
       "      <td>40.0</td>\n",
       "      <td>Single carriageway</td>\n",
       "      <td>Dry</td>\n",
       "      <td>Urban</td>\n",
       "      <td>16 - 20</td>\n",
       "      <td>Female</td>\n",
       "      <td>13.0</td>\n",
       "      <td>Going ahead other</td>\n",
       "      <td>FORD</td>\n",
       "      <td>Car</td>\n",
       "    </tr>\n",
       "    <tr>\n",
       "      <th>1529151</th>\n",
       "      <td>Slight</td>\n",
       "      <td>08:55</td>\n",
       "      <td>Daylight</td>\n",
       "      <td>Fine no high winds</td>\n",
       "      <td>40.0</td>\n",
       "      <td>Slip road</td>\n",
       "      <td>Dry</td>\n",
       "      <td>Urban</td>\n",
       "      <td>26 - 35</td>\n",
       "      <td>Female</td>\n",
       "      <td>2.0</td>\n",
       "      <td>Waiting to go - held up</td>\n",
       "      <td>VAUXHALL</td>\n",
       "      <td>Car</td>\n",
       "    </tr>\n",
       "    <tr>\n",
       "      <th>1528813</th>\n",
       "      <td>Slight</td>\n",
       "      <td>11:00</td>\n",
       "      <td>Daylight</td>\n",
       "      <td>Fine no high winds</td>\n",
       "      <td>30.0</td>\n",
       "      <td>Roundabout</td>\n",
       "      <td>Dry</td>\n",
       "      <td>Urban</td>\n",
       "      <td>Over 75</td>\n",
       "      <td>Male</td>\n",
       "      <td>8.0</td>\n",
       "      <td>Going ahead other</td>\n",
       "      <td>NISSAN</td>\n",
       "      <td>Car</td>\n",
       "    </tr>\n",
       "    <tr>\n",
       "      <th>616859</th>\n",
       "      <td>Slight</td>\n",
       "      <td>18:00</td>\n",
       "      <td>Daylight</td>\n",
       "      <td>Raining no high winds</td>\n",
       "      <td>70.0</td>\n",
       "      <td>Dual carriageway</td>\n",
       "      <td>Wet or damp</td>\n",
       "      <td>Rural</td>\n",
       "      <td>16 - 20</td>\n",
       "      <td>Female</td>\n",
       "      <td>6.0</td>\n",
       "      <td>Going ahead other</td>\n",
       "      <td>HONDA</td>\n",
       "      <td>Car</td>\n",
       "    </tr>\n",
       "  </tbody>\n",
       "</table>\n",
       "</div>"
      ],
      "text/plain": [
       "        Accident_Severity   Time       Light_Conditions  \\\n",
       "153600             Slight  16:25  Darkness - lights lit   \n",
       "634307            Serious  09:29               Daylight   \n",
       "323775             Slight  19:00               Daylight   \n",
       "888628             Slight  15:50               Daylight   \n",
       "1977894           Serious  17:30               Daylight   \n",
       "1085198            Slight  00:40  Darkness - lights lit   \n",
       "52586              Slight  11:00               Daylight   \n",
       "1529151            Slight  08:55               Daylight   \n",
       "1528813            Slight  11:00               Daylight   \n",
       "616859             Slight  18:00               Daylight   \n",
       "\n",
       "            Weather_Conditions  Speed_limit           Road_Type  \\\n",
       "153600   Raining no high winds         40.0    Dual carriageway   \n",
       "634307      Fine no high winds         50.0  Single carriageway   \n",
       "323775      Fine no high winds         30.0  Single carriageway   \n",
       "888628   Raining no high winds         30.0  Single carriageway   \n",
       "1977894     Fine no high winds         20.0  Single carriageway   \n",
       "1085198  Raining no high winds         30.0  Single carriageway   \n",
       "52586       Fine no high winds         40.0  Single carriageway   \n",
       "1529151     Fine no high winds         40.0           Slip road   \n",
       "1528813     Fine no high winds         30.0          Roundabout   \n",
       "616859   Raining no high winds         70.0    Dual carriageway   \n",
       "\n",
       "        Road_Surface_Conditions Urban_or_Rural_Area Age_Band_of_Driver  \\\n",
       "153600              Wet or damp               Rural            16 - 20   \n",
       "634307                      Dry               Rural            46 - 55   \n",
       "323775                      Dry               Rural            36 - 45   \n",
       "888628              Wet or damp               Urban            26 - 35   \n",
       "1977894                     Dry               Urban            56 - 65   \n",
       "1085198             Wet or damp               Urban            36 - 45   \n",
       "52586                       Dry               Urban            16 - 20   \n",
       "1529151                     Dry               Urban            26 - 35   \n",
       "1528813                     Dry               Urban            Over 75   \n",
       "616859              Wet or damp               Rural            16 - 20   \n",
       "\n",
       "        Sex_of_Driver  Age_of_Vehicle        Vehicle_Manoeuvre      make  \\\n",
       "153600           Male             5.0    Changing lane to left  VAUXHALL   \n",
       "634307           Male            11.0                   Parked      JEEP   \n",
       "323775           Male             3.0        Going ahead other   RENAULT   \n",
       "888628           Male             3.0    Waiting to turn right  VAUXHALL   \n",
       "1977894          Male            10.0               Moving off      AUDI   \n",
       "1085198          Male             NaN        Going ahead other  VAUXHALL   \n",
       "52586          Female            13.0        Going ahead other      FORD   \n",
       "1529151        Female             2.0  Waiting to go - held up  VAUXHALL   \n",
       "1528813          Male             8.0        Going ahead other    NISSAN   \n",
       "616859         Female             6.0        Going ahead other     HONDA   \n",
       "\n",
       "        Vehicle_Type  \n",
       "153600           Car  \n",
       "634307           Car  \n",
       "323775           Car  \n",
       "888628           Car  \n",
       "1977894          Car  \n",
       "1085198          Car  \n",
       "52586            Car  \n",
       "1529151          Car  \n",
       "1528813          Car  \n",
       "616859           Car  "
      ]
     },
     "execution_count": 6,
     "metadata": {},
     "output_type": "execute_result"
    }
   ],
   "source": [
    "df.sample(10)"
   ]
  },
  {
   "cell_type": "code",
   "execution_count": 7,
   "id": "abde745c-699c-4d1d-99fc-863a0b123c74",
   "metadata": {},
   "outputs": [
    {
     "data": {
      "text/html": [
       "<div>\n",
       "<style scoped>\n",
       "    .dataframe tbody tr th:only-of-type {\n",
       "        vertical-align: middle;\n",
       "    }\n",
       "\n",
       "    .dataframe tbody tr th {\n",
       "        vertical-align: top;\n",
       "    }\n",
       "\n",
       "    .dataframe thead th {\n",
       "        text-align: right;\n",
       "    }\n",
       "</style>\n",
       "<table border=\"1\" class=\"dataframe\">\n",
       "  <thead>\n",
       "    <tr style=\"text-align: right;\">\n",
       "      <th></th>\n",
       "      <th>Speed_limit</th>\n",
       "      <th>Age_of_Vehicle</th>\n",
       "    </tr>\n",
       "  </thead>\n",
       "  <tbody>\n",
       "    <tr>\n",
       "      <th>count</th>\n",
       "      <td>2.058218e+06</td>\n",
       "      <td>1.720364e+06</td>\n",
       "    </tr>\n",
       "    <tr>\n",
       "      <th>mean</th>\n",
       "      <td>3.975674e+01</td>\n",
       "      <td>7.143274e+00</td>\n",
       "    </tr>\n",
       "    <tr>\n",
       "      <th>std</th>\n",
       "      <td>1.460907e+01</td>\n",
       "      <td>4.728711e+00</td>\n",
       "    </tr>\n",
       "    <tr>\n",
       "      <th>min</th>\n",
       "      <td>0.000000e+00</td>\n",
       "      <td>1.000000e+00</td>\n",
       "    </tr>\n",
       "    <tr>\n",
       "      <th>25%</th>\n",
       "      <td>3.000000e+01</td>\n",
       "      <td>3.000000e+00</td>\n",
       "    </tr>\n",
       "    <tr>\n",
       "      <th>50%</th>\n",
       "      <td>3.000000e+01</td>\n",
       "      <td>7.000000e+00</td>\n",
       "    </tr>\n",
       "    <tr>\n",
       "      <th>75%</th>\n",
       "      <td>5.000000e+01</td>\n",
       "      <td>1.000000e+01</td>\n",
       "    </tr>\n",
       "    <tr>\n",
       "      <th>max</th>\n",
       "      <td>7.000000e+01</td>\n",
       "      <td>1.110000e+02</td>\n",
       "    </tr>\n",
       "  </tbody>\n",
       "</table>\n",
       "</div>"
      ],
      "text/plain": [
       "        Speed_limit  Age_of_Vehicle\n",
       "count  2.058218e+06    1.720364e+06\n",
       "mean   3.975674e+01    7.143274e+00\n",
       "std    1.460907e+01    4.728711e+00\n",
       "min    0.000000e+00    1.000000e+00\n",
       "25%    3.000000e+01    3.000000e+00\n",
       "50%    3.000000e+01    7.000000e+00\n",
       "75%    5.000000e+01    1.000000e+01\n",
       "max    7.000000e+01    1.110000e+02"
      ]
     },
     "execution_count": 7,
     "metadata": {},
     "output_type": "execute_result"
    }
   ],
   "source": [
    "df.describe()"
   ]
  },
  {
   "cell_type": "code",
   "execution_count": 8,
   "id": "186f222b-a552-459a-9f5b-851dbd874cde",
   "metadata": {},
   "outputs": [
    {
     "name": "stdout",
     "output_type": "stream",
     "text": [
      "<class 'pandas.core.frame.DataFrame'>\n",
      "RangeIndex: 2058283 entries, 0 to 2058282\n",
      "Data columns (total 14 columns):\n",
      " #   Column                   Dtype  \n",
      "---  ------                   -----  \n",
      " 0   Accident_Severity        object \n",
      " 1   Time                     object \n",
      " 2   Light_Conditions         object \n",
      " 3   Weather_Conditions       object \n",
      " 4   Speed_limit              float64\n",
      " 5   Road_Type                object \n",
      " 6   Road_Surface_Conditions  object \n",
      " 7   Urban_or_Rural_Area      object \n",
      " 8   Age_Band_of_Driver       object \n",
      " 9   Sex_of_Driver            object \n",
      " 10  Age_of_Vehicle           float64\n",
      " 11  Vehicle_Manoeuvre        object \n",
      " 12  make                     object \n",
      " 13  Vehicle_Type             object \n",
      "dtypes: float64(2), object(12)\n",
      "memory usage: 219.8+ MB\n"
     ]
    }
   ],
   "source": [
    "df.info()"
   ]
  },
  {
   "cell_type": "code",
   "execution_count": 9,
   "id": "200663b7-65b6-4d58-8657-165a5aec5afc",
   "metadata": {},
   "outputs": [
    {
     "data": {
      "text/plain": [
       "Accident_Severity               0\n",
       "Time                            0\n",
       "Light_Conditions                0\n",
       "Weather_Conditions              0\n",
       "Speed_limit                    65\n",
       "Road_Type                       0\n",
       "Road_Surface_Conditions         0\n",
       "Urban_or_Rural_Area             0\n",
       "Age_Band_of_Driver              0\n",
       "Sex_of_Driver                   0\n",
       "Age_of_Vehicle             337919\n",
       "Vehicle_Manoeuvre               0\n",
       "make                            0\n",
       "Vehicle_Type                    0\n",
       "dtype: int64"
      ]
     },
     "execution_count": 9,
     "metadata": {},
     "output_type": "execute_result"
    }
   ],
   "source": [
    "df.isnull().sum()"
   ]
  },
  {
   "cell_type": "code",
   "execution_count": 10,
   "id": "73c0b672-79fb-4d2a-8870-41fb7f6b3c41",
   "metadata": {},
   "outputs": [
    {
     "data": {
      "image/png": "[encoded data removed]",
      "text/plain": [
       "<Figure size 640x480 with 15 Axes>"
      ]
     },
     "metadata": {},
     "output_type": "display_data"
    }
   ],
   "source": [
    "# Draw box-whisker plots\n",
    "df.plot(kind='box', subplots=True, layout=(3,5), sharex=False, sharey=False)\n",
    "plt.show()"
   ]
  },
  {
   "cell_type": "code",
   "execution_count": 11,
   "id": "d92888bb-3bf8-4a95-bfba-c64ea2945563",
   "metadata": {},
   "outputs": [
    {
     "data": {
      "image/png": "[encoded data removed]",
      "text/plain": [
       "<Figure size 640x480 with 2 Axes>"
      ]
     },
     "metadata": {},
     "output_type": "display_data"
    }
   ],
   "source": [
    "# Draw histograms for each feature\n",
    "df.hist()\n",
    "plt.show()"
   ]
  },
  {
   "cell_type": "markdown",
   "id": "cbb833b5-413f-4831-a613-84508bff8390",
   "metadata": {},
   "source": [
    "## Now we are ready to do some data wrangling:\n",
    "Check out:\n",
    "'prediction\\supervised\\wrangle_data.py'"
   ]
  },
  {
   "cell_type": "code",
   "execution_count": 12,
   "id": "0c941b17-32f6-4cce-8c95-a4f22347ca6d",
   "metadata": {},
   "outputs": [],
   "source": [
    "import pandas as pd\n",
    "import numpy as np\n",
    "import tensorflow as tf\n",
    "from tensorflow.keras import Sequential\n",
    "from tensorflow.keras.layers import Dense, Dropout\n",
    "from tensorflow.keras.optimizers import Adam\n",
    "from sklearn.model_selection import train_test_split\n",
    "from sklearn.preprocessing import LabelEncoder, MinMaxScaler, StandardScaler\n",
    "from sklearn.metrics import mean_squared_error, r2_score, accuracy_score, f1_score\n",
    "from sklearn.linear_model import LinearRegression, LogisticRegression\n",
    "from sklearn.ensemble import RandomForestRegressor, GradientBoostingRegressor, RandomForestClassifier, GradientBoostingClassifier\n",
    "from sklearn.neural_network import MLPRegressor\n",
    "from joblib import dump, load\n",
    "from sklearn.pipeline import make_pipeline\n",
    "from sklearn.tree import DecisionTreeClassifier\n",
    "from sklearn.svm import SVC\n",
    "import time\n",
    "\n",
    "pd.set_option('display.max_columns', None)\n",
    "pd.set_option('display.max_rows', None)\n",
    "\n",
    "def wrangle_data(data):\n",
    "    print(\"Loading and wrangling data...\")\n",
    "\n",
    "    # index_col = data.iloc[:, 0]\n",
    "\n",
    "    data_cut = pd.DataFrame(data[\n",
    "        ['Accident_Severity', 'Time', 'Light_Conditions', 'Weather_Conditions', 'Speed_limit', 'Road_Type',\n",
    "         'Road_Surface_Conditions', 'Urban_or_Rural_Area', 'Age_Band_of_Driver', 'Sex_of_Driver', 'Age_of_Vehicle',\n",
    "         'Vehicle_Manoeuvre', 'make', 'Vehicle_Type']])\n",
    "\n",
    "    # data_cut.loc[:, 'ID'] = index_col\n",
    "\n",
    "    data_cut.replace('No data', np.nan, inplace=True)\n",
    "    data_cut.replace('Not known', np.nan, inplace=True)\n",
    "    data_cut.replace('', np.nan, inplace=True)\n",
    "\n",
    "    # Drop rows with NaN in all but 2 columns. These are the columns where we want to fill the missing values.\n",
    "    cols_to_drop_na = [col for col in data_cut.columns if col not in ['Age_of_Vehicle', 'Age_Band_of_Driver']]\n",
    "    data_cut.dropna(subset=cols_to_drop_na, inplace=True)\n",
    "\n",
    "    # Convert Time to minutes since midnight\n",
    "    data_cut['Time'] = pd.to_timedelta(data_cut['Time'] + ':00')\n",
    "    data_cut['Time'] = data_cut['Time'].dt.total_seconds() / 60\n",
    "\n",
    "    # Fill NaN values in 'Age_of_Vehicle' with the median value\n",
    "    data_cut.loc[:, 'Age_of_Vehicle'] = data_cut['Age_of_Vehicle'].fillna(data_cut['Age_of_Vehicle'].median())\n",
    "\n",
    "    # Fill NaN values in 'Age_Band_of_Driver' with the mode value\n",
    "    data_cut.loc[:, 'Age_Band_of_Driver'] = data_cut['Age_Band_of_Driver'].fillna(data_cut.mode().iloc[0]['Age_Band_of_Driver'])\n",
    "\n",
    "    data_cut.to_csv('data/clean_filled.csv', index=False, encoding='utf-8')"
   ]
  },
  {
   "cell_type": "code",
   "execution_count": null,
   "id": "2dafccca-1898-4548-90dc-e93e3296a56b",
   "metadata": {},
   "outputs": [],
   "source": []
  }
 ],
 "metadata": {
  "kernelspec": {
   "display_name": "Python 3 (ipykernel)",
   "language": "python",
   "name": "python3"
  },
  "language_info": {
   "codemirror_mode": {
    "name": "ipython",
    "version": 3
   },
   "file_extension": ".py",
   "mimetype": "text/x-python",
   "name": "python",
   "nbconvert_exporter": "python",
   "pygments_lexer": "ipython3",
   "version": "3.12.3"
  }
 },
 "nbformat": 4,
 "nbformat_minor": 5
}
